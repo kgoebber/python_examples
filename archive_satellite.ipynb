{
 "cells": [
  {
   "cell_type": "markdown",
   "id": "aaa9009d-6683-4a71-b12e-cd78b1b6ba80",
   "metadata": {},
   "source": [
    "# Archive GOES Satellite Observations\n",
    "\n",
    "This notebook uses data available from an NCEI THREDDS that contains GridSat netcdf files. This is the data that underlies the GIBBS: Global ISCCP B1 Browse System\n",
    "\n",
    "https://www.ncei.noaa.gov/products/satellite/gridded-goes-conus\n",
    "\n",
    "Generally data are available from 1980 - 2021 (updated quarterly) with observations available in three hour increments (0, 3, 6, 9, 12, 15, 18, 21 UTC).\n",
    "\n",
    "THREDDS: https://www.ncei.noaa.gov/thredds/catalog/cdr/gridsat/catalog.html\n",
    "\n",
    "Primary Fields:\n",
    "* vischn\n",
    "* irwin_cdr\n",
    "* irwvp\n",
    "\n",
    "Other references:\n",
    "* https://www.ncei.noaa.gov/products/satellite/international-satellite-cloud-climatology-b1\n",
    "* Knapp, K. R., 2008: Scientific data stewardship of International Satellite Cloud Climatology Project B1 global geostationary observations. Journal of Applied Remote Sensing, 2, 023548, doi:10.1117/1.3043461"
   ]
  },
  {
   "cell_type": "code",
   "execution_count": null,
   "id": "4f45f9d4-6eea-4e4d-8edb-ec7a55290e60",
   "metadata": {},
   "outputs": [],
   "source": [
    "from datetime import datetime\n",
    "\n",
    "from metpy.plots import declarative\n",
    "import xarray as xr"
   ]
  },
  {
   "cell_type": "code",
   "execution_count": null,
   "id": "f29fa2c0-39e3-4b81-a538-c370464a87a7",
   "metadata": {},
   "outputs": [],
   "source": [
    "# Set Model Run Date/Time\n",
    "date = datetime(1993, 3, 13, 18)\n",
    "\n",
    "# Remote Access to NCEI\n",
    "ds = xr.open_dataset(f'https://www.ncei.noaa.gov/thredds/dodsC/cdr/gridsat/{date:%Y}'\n",
    "                     f'/GRIDSAT-B1.{date:%Y.%m.%d.%H}.v02r01.nc').metpy.parse_cf()"
   ]
  },
  {
   "cell_type": "code",
   "execution_count": null,
   "id": "6d3518ea-6e8c-43f9-a1b2-b182ec381547",
   "metadata": {},
   "outputs": [],
   "source": [
    "# Set the parameters for the image you want to plot\n",
    "img = declarative.ImagePlot()\n",
    "img.data = ds\n",
    "img.field = 'irwin_cdr'\n",
    "img.time = date\n",
    "img.colorbar = 'horizontal'\n",
    "img.colormap = 'ir_drgb_r'\n",
    "\n",
    "# Set the attributes for the map\n",
    "# and put the data on the map\n",
    "panel = declarative.MapPanel()\n",
    "panel.area = [-125, -74, 20, 55]\n",
    "panel.projection = 'lcc'\n",
    "panel.layers = ['states', 'coastline', 'borders']\n",
    "panel.title = f'Visible Satellite {date} by KHG'\n",
    "panel.plots = [img]\n",
    "\n",
    "# Set the attributes for the panel\n",
    "# and put the panel in the figure\n",
    "pc = declarative.PanelContainer()\n",
    "pc.size = (15, 15)\n",
    "pc.panels = [panel]\n",
    "\n",
    "# Show the figure\n",
    "#pc.save(f'GOES_IR_{img.time:%Y%m%d_%H}.png', dpi=150, bbox_inches='tight')\n",
    "pc.show()"
   ]
  },
  {
   "cell_type": "code",
   "execution_count": null,
   "id": "57aaf879-1b87-41e7-bb2d-1998a6f59422",
   "metadata": {},
   "outputs": [],
   "source": []
  }
 ],
 "metadata": {
  "kernelspec": {
   "display_name": "Python 3 (ipykernel)",
   "language": "python",
   "name": "python3"
  },
  "language_info": {
   "codemirror_mode": {
    "name": "ipython",
    "version": 3
   },
   "file_extension": ".py",
   "mimetype": "text/x-python",
   "name": "python",
   "nbconvert_exporter": "python",
   "pygments_lexer": "ipython3",
   "version": "3.8.12"
  }
 },
 "nbformat": 4,
 "nbformat_minor": 5
}
